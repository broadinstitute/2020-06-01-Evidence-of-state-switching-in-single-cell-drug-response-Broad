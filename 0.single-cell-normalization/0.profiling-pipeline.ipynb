{
 "cells": [
  {
   "cell_type": "markdown",
   "metadata": {},
   "source": [
    "## Apply normalization and feature selection to single cell DMSO profiles"
   ]
  },
  {
   "cell_type": "code",
   "execution_count": 1,
   "metadata": {},
   "outputs": [],
   "source": [
    "import pathlib\n",
    "import numpy as np\n",
    "import pandas as pd\n",
    "\n",
    "from pycytominer import normalize\n",
    "from pycytominer import feature_select\n",
    "from pycytominer.cyto_utils import infer_cp_features"
   ]
  },
  {
   "cell_type": "code",
   "execution_count": 2,
   "metadata": {},
   "outputs": [],
   "source": [
    "# Load constants\n",
    "data_dir = pathlib.Path(\"../data\")\n",
    "\n",
    "feature_select_ops = [\n",
    "    \"variance_threshold\",\n",
    "    \"correlation_threshold\",\n",
    "    \"drop_na_columns\",\n",
    "    \"blocklist\",\n",
    "    \"drop_outliers\",\n",
    "]\n",
    "\n",
    "feature_select_summary_file = pathlib.Path(\"tables/feature_select_summary.csv\")"
   ]
  },
  {
   "cell_type": "code",
   "execution_count": 3,
   "metadata": {},
   "outputs": [
    {
     "data": {
      "text/plain": [
       "[PosixPath('../data/SQ00015145_dmso.csv'),\n",
       " PosixPath('../data/SQ00015143_dmso.csv'),\n",
       " PosixPath('../data/SQ00015201_dmso.csv'),\n",
       " PosixPath('../data/SQ00015142_dmso.csv'),\n",
       " PosixPath('../data/SQ00015144_dmso.csv')]"
      ]
     },
     "execution_count": 3,
     "metadata": {},
     "output_type": "execute_result"
    }
   ],
   "source": [
    "# Load data\n",
    "data_dir = pathlib.Path(\"../data\")\n",
    "data_files = [x for x in data_dir.iterdir() if \"_dmso.csv\" in str(x)]\n",
    "data_files"
   ]
  },
  {
   "cell_type": "code",
   "execution_count": 4,
   "metadata": {},
   "outputs": [
    {
     "name": "stdout",
     "output_type": "stream",
     "text": [
      "Now processing SQ00015145...\n",
      "Now processing SQ00015143...\n",
      "Now processing SQ00015201...\n",
      "Now processing SQ00015142...\n",
      "Now processing SQ00015144...\n"
     ]
    }
   ],
   "source": [
    "features_selected_list = []\n",
    "for file in data_files:\n",
    "    plate = str(file).split(\"/\")[-1].split(\"_\")[0]\n",
    "    \n",
    "    print(f\"Now processing {plate}...\")\n",
    "    df = pd.read_csv(file)\n",
    "\n",
    "    metadata_cols = [\"Image_Metadata_Well\"] + infer_cp_features(df, metadata=True)\n",
    "    feature_cols = infer_cp_features(df, compartments=[\"Cells\", \"Cytoplasm\", \"Nuclei\"])\n",
    "\n",
    "    output_file = pathlib.Path(f\"{data_dir}/{plate}_dmso_normalized.csv\")\n",
    "    \n",
    "    # Apply normalization and output files\n",
    "    normalize(\n",
    "        profiles=df,\n",
    "        features=feature_cols,\n",
    "        meta_features=metadata_cols,\n",
    "        method=\"standardize\",\n",
    "        output_file=output_file\n",
    "    )\n",
    "    \n",
    "    # Apply feature selection only to determine which features to use\n",
    "    feature_select_df = feature_select(\n",
    "        profiles=output_file,\n",
    "        features=\"infer\",\n",
    "        operation=feature_select_ops,\n",
    "        na_cutoff=0,\n",
    "        corr_threshold=0.8\n",
    "    )\n",
    "    \n",
    "    # Identify which features were selected\n",
    "    selected_features = pd.DataFrame(np.zeros((len(df.columns), 1)), index=df.columns, columns=[plate])\n",
    "    selected_features.loc[selected_features.index.isin(feature_select_df.columns), plate] = 1\n",
    "    selected_features = selected_features.astype(int)\n",
    "    \n",
    "    features_selected_list.append(selected_features)"
   ]
  },
  {
   "cell_type": "code",
   "execution_count": 5,
   "metadata": {},
   "outputs": [
    {
     "name": "stdout",
     "output_type": "stream",
     "text": [
      "(2448, 5)\n"
     ]
    },
    {
     "data": {
      "text/html": [
       "<div>\n",
       "<style scoped>\n",
       "    .dataframe tbody tr th:only-of-type {\n",
       "        vertical-align: middle;\n",
       "    }\n",
       "\n",
       "    .dataframe tbody tr th {\n",
       "        vertical-align: top;\n",
       "    }\n",
       "\n",
       "    .dataframe thead th {\n",
       "        text-align: right;\n",
       "    }\n",
       "</style>\n",
       "<table border=\"1\" class=\"dataframe\">\n",
       "  <thead>\n",
       "    <tr style=\"text-align: right;\">\n",
       "      <th></th>\n",
       "      <th>SQ00015145</th>\n",
       "      <th>SQ00015143</th>\n",
       "      <th>SQ00015201</th>\n",
       "      <th>SQ00015142</th>\n",
       "      <th>SQ00015144</th>\n",
       "    </tr>\n",
       "  </thead>\n",
       "  <tbody>\n",
       "    <tr>\n",
       "      <th>Image_Metadata_Well</th>\n",
       "      <td>1</td>\n",
       "      <td>1</td>\n",
       "      <td>1</td>\n",
       "      <td>1</td>\n",
       "      <td>1</td>\n",
       "    </tr>\n",
       "    <tr>\n",
       "      <th>TableNumber</th>\n",
       "      <td>0</td>\n",
       "      <td>0</td>\n",
       "      <td>0</td>\n",
       "      <td>0</td>\n",
       "      <td>0</td>\n",
       "    </tr>\n",
       "    <tr>\n",
       "      <th>ImageNumber</th>\n",
       "      <td>0</td>\n",
       "      <td>0</td>\n",
       "      <td>0</td>\n",
       "      <td>0</td>\n",
       "      <td>0</td>\n",
       "    </tr>\n",
       "    <tr>\n",
       "      <th>ObjectNumber</th>\n",
       "      <td>0</td>\n",
       "      <td>0</td>\n",
       "      <td>0</td>\n",
       "      <td>0</td>\n",
       "      <td>0</td>\n",
       "    </tr>\n",
       "    <tr>\n",
       "      <th>Cells_AreaShape_Area</th>\n",
       "      <td>0</td>\n",
       "      <td>0</td>\n",
       "      <td>0</td>\n",
       "      <td>0</td>\n",
       "      <td>0</td>\n",
       "    </tr>\n",
       "  </tbody>\n",
       "</table>\n",
       "</div>"
      ],
      "text/plain": [
       "                      SQ00015145  SQ00015143  SQ00015201  SQ00015142  \\\n",
       "Image_Metadata_Well            1           1           1           1   \n",
       "TableNumber                    0           0           0           0   \n",
       "ImageNumber                    0           0           0           0   \n",
       "ObjectNumber                   0           0           0           0   \n",
       "Cells_AreaShape_Area           0           0           0           0   \n",
       "\n",
       "                      SQ00015144  \n",
       "Image_Metadata_Well            1  \n",
       "TableNumber                    0  \n",
       "ImageNumber                    0  \n",
       "ObjectNumber                   0  \n",
       "Cells_AreaShape_Area           0  "
      ]
     },
     "execution_count": 5,
     "metadata": {},
     "output_type": "execute_result"
    }
   ],
   "source": [
    "feature_select_summary_df = pd.concat(features_selected_list, axis=\"columns\")\n",
    "\n",
    "feature_select_summary_df.to_csv(feature_select_summary_file, sep=\",\", index=True)\n",
    "\n",
    "print(feature_select_summary_df.shape)\n",
    "feature_select_summary_df.head()"
   ]
  }
 ],
 "metadata": {
  "kernelspec": {
   "display_name": "Python [conda env:state-switching] *",
   "language": "python",
   "name": "conda-env-state-switching-py"
  },
  "language_info": {
   "codemirror_mode": {
    "name": "ipython",
    "version": 3
   },
   "file_extension": ".py",
   "mimetype": "text/x-python",
   "name": "python",
   "nbconvert_exporter": "python",
   "pygments_lexer": "ipython3",
   "version": "3.8.6"
  }
 },
 "nbformat": 4,
 "nbformat_minor": 4
}
