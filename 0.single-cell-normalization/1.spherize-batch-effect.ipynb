{
 "cells": [
  {
   "cell_type": "markdown",
   "metadata": {},
   "source": [
    "## Apply spherize transform\n",
    "\n",
    "Spherize (aka whiten) the normalized profiles using ZCA-cor transform"
   ]
  },
  {
   "cell_type": "code",
   "execution_count": 1,
   "metadata": {},
   "outputs": [],
   "source": [
    "import pathlib\n",
    "import numpy as np\n",
    "import pandas as pd\n",
    "\n",
    "from pycytominer import normalize\n",
    "from pycytominer.cyto_utils import infer_cp_features"
   ]
  },
  {
   "cell_type": "code",
   "execution_count": 2,
   "metadata": {},
   "outputs": [],
   "source": [
    "# Load constants\n",
    "data_dir = pathlib.Path(\"../data\")\n",
    "feature_select_summary_file = pathlib.Path(\"tables/feature_select_summary.csv\")\n",
    "output_file_suffix = \"dmso_ZCA-cor_normalized.csv\"\n",
    "minimum_times_selected = 2"
   ]
  },
  {
   "cell_type": "code",
   "execution_count": 3,
   "metadata": {},
   "outputs": [
    {
     "data": {
      "text/plain": [
       "[PosixPath('../data/SQ00015145_dmso_normalized.csv'),\n",
       " PosixPath('../data/SQ00015143_dmso_normalized.csv'),\n",
       " PosixPath('../data/SQ00015142_dmso_normalized.csv'),\n",
       " PosixPath('../data/SQ00015201_dmso_normalized.csv'),\n",
       " PosixPath('../data/SQ00015144_dmso_normalized.csv')]"
      ]
     },
     "execution_count": 3,
     "metadata": {},
     "output_type": "execute_result"
    }
   ],
   "source": [
    "# Load data\n",
    "data_dir = pathlib.Path(\"../data\")\n",
    "data_files = [x for x in data_dir.iterdir() if \"_dmso_normalized.csv\" in str(x)]\n",
    "data_files"
   ]
  },
  {
   "cell_type": "code",
   "execution_count": 4,
   "metadata": {},
   "outputs": [
    {
     "data": {
      "text/plain": [
       "0    1988\n",
       "5     244\n",
       "1      74\n",
       "4      73\n",
       "3      38\n",
       "2      31\n",
       "Name: times_selected, dtype: int64"
      ]
     },
     "execution_count": 4,
     "metadata": {},
     "output_type": "execute_result"
    }
   ],
   "source": [
    "# Perform feature selection\n",
    "feature_df = pd.read_csv(feature_select_summary_file, index_col=0)\n",
    "\n",
    "feature_df = (\n",
    "    feature_df\n",
    "    .assign(times_selected=feature_df.sum(axis=\"columns\"))\n",
    "    .assign(selected=0)\n",
    ")\n",
    "\n",
    "feature_df.times_selected.value_counts()"
   ]
  },
  {
   "cell_type": "code",
   "execution_count": 5,
   "metadata": {},
   "outputs": [
    {
     "name": "stdout",
     "output_type": "stream",
     "text": [
      "(355, 7)\n"
     ]
    },
    {
     "data": {
      "text/html": [
       "<div>\n",
       "<style scoped>\n",
       "    .dataframe tbody tr th:only-of-type {\n",
       "        vertical-align: middle;\n",
       "    }\n",
       "\n",
       "    .dataframe tbody tr th {\n",
       "        vertical-align: top;\n",
       "    }\n",
       "\n",
       "    .dataframe thead th {\n",
       "        text-align: right;\n",
       "    }\n",
       "</style>\n",
       "<table border=\"1\" class=\"dataframe\">\n",
       "  <thead>\n",
       "    <tr style=\"text-align: right;\">\n",
       "      <th></th>\n",
       "      <th>SQ00015145</th>\n",
       "      <th>SQ00015143</th>\n",
       "      <th>SQ00015201</th>\n",
       "      <th>SQ00015142</th>\n",
       "      <th>SQ00015144</th>\n",
       "      <th>times_selected</th>\n",
       "      <th>selected</th>\n",
       "    </tr>\n",
       "  </thead>\n",
       "  <tbody>\n",
       "    <tr>\n",
       "      <th>Image_Metadata_Well</th>\n",
       "      <td>1</td>\n",
       "      <td>1</td>\n",
       "      <td>1</td>\n",
       "      <td>1</td>\n",
       "      <td>1</td>\n",
       "      <td>5</td>\n",
       "      <td>1</td>\n",
       "    </tr>\n",
       "    <tr>\n",
       "      <th>Cells_AreaShape_Eccentricity</th>\n",
       "      <td>1</td>\n",
       "      <td>1</td>\n",
       "      <td>1</td>\n",
       "      <td>1</td>\n",
       "      <td>1</td>\n",
       "      <td>5</td>\n",
       "      <td>1</td>\n",
       "    </tr>\n",
       "    <tr>\n",
       "      <th>Cells_AreaShape_Extent</th>\n",
       "      <td>1</td>\n",
       "      <td>1</td>\n",
       "      <td>1</td>\n",
       "      <td>1</td>\n",
       "      <td>1</td>\n",
       "      <td>5</td>\n",
       "      <td>1</td>\n",
       "    </tr>\n",
       "    <tr>\n",
       "      <th>Cells_AreaShape_FormFactor</th>\n",
       "      <td>1</td>\n",
       "      <td>1</td>\n",
       "      <td>1</td>\n",
       "      <td>1</td>\n",
       "      <td>1</td>\n",
       "      <td>5</td>\n",
       "      <td>1</td>\n",
       "    </tr>\n",
       "    <tr>\n",
       "      <th>Cells_AreaShape_Solidity</th>\n",
       "      <td>1</td>\n",
       "      <td>1</td>\n",
       "      <td>1</td>\n",
       "      <td>1</td>\n",
       "      <td>1</td>\n",
       "      <td>5</td>\n",
       "      <td>1</td>\n",
       "    </tr>\n",
       "  </tbody>\n",
       "</table>\n",
       "</div>"
      ],
      "text/plain": [
       "                              SQ00015145  SQ00015143  SQ00015201  SQ00015142  \\\n",
       "Image_Metadata_Well                    1           1           1           1   \n",
       "Cells_AreaShape_Eccentricity           1           1           1           1   \n",
       "Cells_AreaShape_Extent                 1           1           1           1   \n",
       "Cells_AreaShape_FormFactor             1           1           1           1   \n",
       "Cells_AreaShape_Solidity               1           1           1           1   \n",
       "\n",
       "                              SQ00015144  times_selected  selected  \n",
       "Image_Metadata_Well                    1               5         1  \n",
       "Cells_AreaShape_Eccentricity           1               5         1  \n",
       "Cells_AreaShape_Extent                 1               5         1  \n",
       "Cells_AreaShape_FormFactor             1               5         1  \n",
       "Cells_AreaShape_Solidity               1               5         1  "
      ]
     },
     "execution_count": 5,
     "metadata": {},
     "output_type": "execute_result"
    }
   ],
   "source": [
    "# Load feature selection options\n",
    "feature_df.loc[feature_df.times_selected > minimum_times_selected, \"selected\"] = 1\n",
    "feature_df = feature_df.query(\"selected == 1\")\n",
    "\n",
    "print(feature_df.shape)\n",
    "feature_df.head()"
   ]
  },
  {
   "cell_type": "code",
   "execution_count": 6,
   "metadata": {},
   "outputs": [
    {
     "name": "stdout",
     "output_type": "stream",
     "text": [
      "Now processing SQ00015145...\n",
      "Now processing SQ00015143...\n",
      "Now processing SQ00015142...\n",
      "Now processing SQ00015201...\n",
      "Now processing SQ00015144...\n"
     ]
    }
   ],
   "source": [
    "# Perform spherize transform\n",
    "for file in data_files:\n",
    "    # Extract plate from file name\n",
    "    plate = str(file).split(\"/\")[-1].split(\"_\")[0]\n",
    "    print(f\"Now processing {plate}...\")\n",
    "    \n",
    "    # Load data and apply feature selection\n",
    "    df = pd.read_csv(file).reindex(feature_df.index, axis=\"columns\")\n",
    "\n",
    "    # Get feature names\n",
    "    metadata_cols = [\"Image_Metadata_Well\"] + infer_cp_features(df, metadata=True)\n",
    "    feature_cols = infer_cp_features(df, compartments=[\"Cells\", \"Cytoplasm\", \"Nuclei\"])\n",
    "\n",
    "    output_file = pathlib.Path(f\"{data_dir}/{plate}_{output_file_suffix}\")\n",
    "    \n",
    "    # Apply spherize transformation and output files\n",
    "    normalize(\n",
    "        profiles=df,\n",
    "        features=feature_cols,\n",
    "        meta_features=metadata_cols,\n",
    "        method=\"spherize\",\n",
    "        spherize_method=\"ZCA-cor\",\n",
    "        spherize_center=True,\n",
    "        output_file=output_file\n",
    "    )"
   ]
  }
 ],
 "metadata": {
  "kernelspec": {
   "display_name": "Python [conda env:state-switching] *",
   "language": "python",
   "name": "conda-env-state-switching-py"
  },
  "language_info": {
   "codemirror_mode": {
    "name": "ipython",
    "version": 3
   },
   "file_extension": ".py",
   "mimetype": "text/x-python",
   "name": "python",
   "nbconvert_exporter": "python",
   "pygments_lexer": "ipython3",
   "version": "3.8.6"
  }
 },
 "nbformat": 4,
 "nbformat_minor": 4
}
