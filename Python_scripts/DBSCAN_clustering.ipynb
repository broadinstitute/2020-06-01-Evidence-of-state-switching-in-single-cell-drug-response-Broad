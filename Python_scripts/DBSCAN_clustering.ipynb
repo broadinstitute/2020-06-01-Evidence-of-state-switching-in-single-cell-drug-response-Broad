{
 "cells": [
  {
   "cell_type": "code",
   "execution_count": 16,
   "metadata": {},
   "outputs": [],
   "source": [
    "import os\n",
    "import pandas as pd\n",
    "import matplotlib.pyplot as plt\n",
    "import numpy as np\n",
    "from sklearn.preprocessing import StandardScaler\n",
    "import plotnine as gg\n",
    "import umap\n",
    "from pathlib import Path\n",
    "import scipy.linalg\n",
    "from sklearn.cluster import DBSCAN\n",
    "from functions import *\n",
    "from collections import Counter\n",
    "from pylab import rcParams\n",
    "\n",
    "rcParams['figure.figsize'] = 50, 20\n",
    "\n",
    "%matplotlib inline"
   ]
  },
  {
   "cell_type": "code",
   "execution_count": 3,
   "metadata": {},
   "outputs": [],
   "source": [
    "fname = \"dmso_scaled_whitened.csv\""
   ]
  },
  {
   "cell_type": "markdown",
   "metadata": {},
   "source": [
    "## load data"
   ]
  },
  {
   "cell_type": "code",
   "execution_count": 4,
   "metadata": {},
   "outputs": [
    {
     "data": {
      "text/plain": [
       "'../data/umap_data/dmso_scaled_whitened.csv'"
      ]
     },
     "execution_count": 4,
     "metadata": {},
     "output_type": "execute_result"
    }
   ],
   "source": [
    "\n",
    "folder = Path(os.path.join(\"..\", 'data', 'umap_data'))\n",
    "path = os.path.join(folder, fname)\n",
    "path"
   ]
  },
  {
   "cell_type": "code",
   "execution_count": 9,
   "metadata": {},
   "outputs": [
    {
     "data": {
      "text/plain": [
       "array(['SQ00015142', 'SQ00015145', 'SQ00015144', 'SQ00015143',\n",
       "       'SQ00015201'], dtype=object)"
      ]
     },
     "execution_count": 9,
     "metadata": {},
     "output_type": "execute_result"
    }
   ],
   "source": [
    "data = pd.read_csv(path)\n",
    "\n",
    "data.Metadata_Plate.unique()"
   ]
  },
  {
   "cell_type": "code",
   "execution_count": 18,
   "metadata": {},
   "outputs": [
    {
     "data": {
      "image/png": "[encoded data removed]",
      "text/plain": [
       "<Figure size 432x288 with 1 Axes>"
      ]
     },
     "metadata": {
      "needs_background": "light"
     },
     "output_type": "display_data"
    }
   ],
   "source": [
    "\n",
    "\n",
    "_ = plt.plot(data['UMAP-1'], data['UMAP-2'],\n",
    "            marker=\".\", linewidth=0, color='r')\n",
    "\n",
    "_ = plt.grid(which='major', color='#cccccc', alpha=0.45)\n",
    "\n",
    "_ = plt.title(\"UMAP\", family='Arial', fontsize=18)\n",
    "\n",
    "_ = plt.xlabel(\"UMAP-1\")\n",
    "\n",
    "_ = plt.ylabel(\"UMAP-2\")\n",
    "\n",
    "_ = plt.show()\n"
   ]
  },
  {
   "cell_type": "code",
   "execution_count": null,
   "metadata": {},
   "outputs": [],
   "source": []
  }
 ],
 "metadata": {
  "kernelspec": {
   "display_name": "Python 3",
   "language": "python",
   "name": "python3"
  },
  "language_info": {
   "codemirror_mode": {
    "name": "ipython",
    "version": 3
   },
   "file_extension": ".py",
   "mimetype": "text/x-python",
   "name": "python",
   "nbconvert_exporter": "python",
   "pygments_lexer": "ipython3",
   "version": "3.7.6"
  }
 },
 "nbformat": 4,
 "nbformat_minor": 4
}
